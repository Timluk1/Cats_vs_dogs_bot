{
  "nbformat": 4,
  "nbformat_minor": 0,
  "metadata": {
    "colab": {
      "provenance": [],
      "authorship_tag": "ABX9TyPA0l0467bQ4TNWcDAuPDLz",
      "include_colab_link": true
    },
    "kernelspec": {
      "name": "python3",
      "display_name": "Python 3"
    },
    "language_info": {
      "name": "python"
    }
  },
  "cells": [
    {
      "cell_type": "markdown",
      "metadata": {
        "id": "view-in-github",
        "colab_type": "text"
      },
      "source": [
        "<a href=\"https://colab.research.google.com/github/Timluk1/Cats_vs_dogs_bot/blob/main/Untitled8.ipynb\" target=\"_parent\"><img src=\"https://colab.research.google.com/assets/colab-badge.svg\" alt=\"Open In Colab\"/></a>"
      ]
    },
    {
      "cell_type": "code",
      "execution_count": null,
      "metadata": {
        "id": "vEF984JdQPIW"
      },
      "outputs": [],
      "source": [
        "import tensorflow as tf\n",
        "from tensorflow import keras\n",
        "from tensorflow.keras import layers\n",
        "from tensorflow.keras.preprocessing.image import ImageDataGenerator\n",
        "from tensorflow.keras.layers import Conv2D, MaxPooling2D, Flatten, Dense\n",
        "import matplotlib.pyplot as plt\n",
        "import pandas as pd\n",
        "import numpy as np\n",
        "import cv2\n",
        "import os"
      ]
    },
    {
      "cell_type": "code",
      "source": [
        "!pip install kaggle\n"
      ],
      "metadata": {
        "colab": {
          "base_uri": "https://localhost:8080/"
        },
        "id": "PUYb5FaBRrn1",
        "outputId": "7f3c0b45-e24a-4c14-deaf-d8fdf53fbdd5"
      },
      "execution_count": null,
      "outputs": [
        {
          "output_type": "stream",
          "name": "stdout",
          "text": [
            "Looking in indexes: https://pypi.org/simple, https://us-python.pkg.dev/colab-wheels/public/simple/\n",
            "Requirement already satisfied: kaggle in /usr/local/lib/python3.10/dist-packages (1.5.13)\n",
            "Requirement already satisfied: six>=1.10 in /usr/local/lib/python3.10/dist-packages (from kaggle) (1.16.0)\n",
            "Requirement already satisfied: certifi in /usr/local/lib/python3.10/dist-packages (from kaggle) (2022.12.7)\n",
            "Requirement already satisfied: python-dateutil in /usr/local/lib/python3.10/dist-packages (from kaggle) (2.8.2)\n",
            "Requirement already satisfied: requests in /usr/local/lib/python3.10/dist-packages (from kaggle) (2.27.1)\n",
            "Requirement already satisfied: tqdm in /usr/local/lib/python3.10/dist-packages (from kaggle) (4.65.0)\n",
            "Requirement already satisfied: python-slugify in /usr/local/lib/python3.10/dist-packages (from kaggle) (8.0.1)\n",
            "Requirement already satisfied: urllib3 in /usr/local/lib/python3.10/dist-packages (from kaggle) (1.26.15)\n",
            "Requirement already satisfied: text-unidecode>=1.3 in /usr/local/lib/python3.10/dist-packages (from python-slugify->kaggle) (1.3)\n",
            "Requirement already satisfied: charset-normalizer~=2.0.0 in /usr/local/lib/python3.10/dist-packages (from requests->kaggle) (2.0.12)\n",
            "Requirement already satisfied: idna<4,>=2.5 in /usr/local/lib/python3.10/dist-packages (from requests->kaggle) (3.4)\n"
          ]
        }
      ]
    },
    {
      "cell_type": "code",
      "source": [
        "import os\n",
        "\n",
        "os.environ['KAGGLE_USERNAME'] = ''  # Replace with your Kaggle username\n",
        "os.environ['KAGGLE_KEY'] = ''  # Replace with your Kaggle API key\n"
      ],
      "metadata": {
        "id": "3zlRfcraUcgQ"
      },
      "execution_count": null,
      "outputs": []
    },
    {
      "cell_type": "code",
      "source": [
        "!kaggle datasets download -d shaunthesheep/microsoft-catsvsdogs-dataset\n"
      ],
      "metadata": {
        "colab": {
          "base_uri": "https://localhost:8080/"
        },
        "id": "Tynnn6BhUrSw",
        "outputId": "f75ca8ce-8c8f-4d0f-f47e-b065a1ba995e"
      },
      "execution_count": null,
      "outputs": [
        {
          "output_type": "stream",
          "name": "stdout",
          "text": [
            "Downloading microsoft-catsvsdogs-dataset.zip to /content\n",
            "100% 785M/788M [00:13<00:00, 64.4MB/s]\n",
            "100% 788M/788M [00:13<00:00, 62.8MB/s]\n"
          ]
        }
      ]
    },
    {
      "cell_type": "code",
      "source": [
        "!unzip microsoft-catsvsdogs-dataset.zip\n"
      ],
      "metadata": {
        "colab": {
          "base_uri": "https://localhost:8080/"
        },
        "id": "PrLLuOurUufc",
        "outputId": "9b98296b-b5a7-4abb-d685-9c918d1be58b"
      },
      "execution_count": null,
      "outputs": [
        {
          "output_type": "stream",
          "name": "stdout",
          "text": [
            "Archive:  microsoft-catsvsdogs-dataset.zip\n",
            "  inflating: MSR-LA - 3467.docx      \n",
            "replace PetImages/Cat/0.jpg? [y]es, [n]o, [A]ll, [N]one, [r]ename: "
          ]
        }
      ]
    },
    {
      "cell_type": "code",
      "source": [
        "import os\n",
        "from PIL import Image\n",
        "\n",
        "folder = \"/content/PetImages\"\n",
        "categoricals = [\"Cat\", \"Dog\"]\n",
        "data = []\n",
        "\n",
        "for categori in categoricals:\n",
        "    for img in os.listdir(folder + \"/\" + categori):\n",
        "        img_path = os.path.join(folder, categori, img)\n",
        "        try:\n",
        "            with Image.open(img_path) as image:\n",
        "                # Check if the image is valid\n",
        "                image.verify()\n",
        "                if categori == \"Cat\":\n",
        "                    data.append((img_path, 1))\n",
        "                else:\n",
        "                    data.append((img_path, 0))\n",
        "        except (IOError, SyntaxError) as e:\n",
        "            print(f\"Invalid image: {img_path} - {e}\")\n",
        "\n",
        "# Rest of the code...\n"
      ],
      "metadata": {
        "id": "xmInK4bxU0pg",
        "colab": {
          "base_uri": "https://localhost:8080/"
        },
        "outputId": "cfda9b9e-7c88-4b69-fc23-9503ff742d0a"
      },
      "execution_count": null,
      "outputs": [
        {
          "output_type": "stream",
          "name": "stdout",
          "text": [
            "Invalid image: /content/PetImages/Cat/666.jpg - cannot identify image file '/content/PetImages/Cat/666.jpg'\n",
            "Invalid image: /content/PetImages/Cat/Thumbs.db - cannot identify image file '/content/PetImages/Cat/Thumbs.db'\n",
            "Invalid image: /content/PetImages/Dog/11702.jpg - cannot identify image file '/content/PetImages/Dog/11702.jpg'\n"
          ]
        },
        {
          "output_type": "stream",
          "name": "stderr",
          "text": [
            "/usr/local/lib/python3.10/dist-packages/PIL/TiffImagePlugin.py:819: UserWarning: Truncated File Read\n",
            "  warnings.warn(str(msg))\n"
          ]
        },
        {
          "output_type": "stream",
          "name": "stdout",
          "text": [
            "Invalid image: /content/PetImages/Dog/Thumbs.db - cannot identify image file '/content/PetImages/Dog/Thumbs.db'\n"
          ]
        }
      ]
    },
    {
      "cell_type": "code",
      "source": [
        "df = pd.DataFrame(data, columns=[\"img\", \"label\"])\n",
        "df[\"label\"] = df[\"label\"].astype('string')"
      ],
      "metadata": {
        "id": "WDSJQ58Tw38V"
      },
      "execution_count": null,
      "outputs": []
    },
    {
      "cell_type": "code",
      "source": [
        "train_generator = ImageDataGenerator(\n",
        "    rescale=1./255,\n",
        "    rotation_range=40,\n",
        "    shear_range=0.2,\n",
        "    zoom_range=0.2,\n",
        "    horizontal_flip=True,\n",
        "    fill_mode=\"nearest\"\n",
        ")\n",
        "\n",
        "data_generator = train_generator.flow_from_dataframe(\n",
        "    dataframe=df,\n",
        "    x_col=\"img\",\n",
        "    y_col=\"label\",\n",
        "    directory=folder,\n",
        "    target_size=(100, 100),\n",
        "    batch_size=32,\n",
        "    class_mode='binary'\n",
        ")"
      ],
      "metadata": {
        "id": "tRwmQjConviN",
        "colab": {
          "base_uri": "https://localhost:8080/"
        },
        "outputId": "c64beea1-ef65-496d-fa05-509070627959"
      },
      "execution_count": null,
      "outputs": [
        {
          "output_type": "stream",
          "name": "stdout",
          "text": [
            "Found 24998 validated image filenames belonging to 2 classes.\n"
          ]
        }
      ]
    },
    {
      "cell_type": "code",
      "source": [
        "\n",
        "model = tf.keras.Sequential([\n",
        "    keras.layers.Conv2D(16, (3, 3), activation='relu', input_shape=(100, 100, 3)),\n",
        "    keras.layers.MaxPooling2D(2, 2),\n",
        "    keras.layers.Conv2D(32, (3, 3), activation='relu'),\n",
        "    keras.layers.MaxPooling2D(2, 2),\n",
        "    keras.layers.Conv2D(64, (3, 3), activation='relu'),\n",
        "    keras.layers.MaxPooling2D(2, 2),\n",
        "    keras.layers.Flatten(),\n",
        "    keras.layers.Dense(512, activation='relu'),\n",
        "    keras.layers.Dense(1, activation='sigmoid')\n",
        "])\n",
        "\n",
        "model.compile(optimizer='adam',\n",
        "              loss='binary_crossentropy',\n",
        "              metrics=['accuracy'])\n",
        "\n",
        "model.fit_generator(data_generator, epochs=5)"
      ],
      "metadata": {
        "colab": {
          "base_uri": "https://localhost:8080/"
        },
        "id": "b8eCVHBUw15e",
        "outputId": "6daba153-751e-4a10-961c-1bd94e0f7073"
      },
      "execution_count": null,
      "outputs": [
        {
          "output_type": "stream",
          "name": "stderr",
          "text": [
            "<ipython-input-36-320dacb694d2>:17: UserWarning: `Model.fit_generator` is deprecated and will be removed in a future version. Please use `Model.fit`, which supports generators.\n",
            "  model.fit_generator(data_generator, epochs=5)\n"
          ]
        },
        {
          "output_type": "stream",
          "name": "stdout",
          "text": [
            "Epoch 1/5\n",
            "322/782 [===========>..................] - ETA: 4:09 - loss: 0.6570 - accuracy: 0.6026"
          ]
        },
        {
          "output_type": "stream",
          "name": "stderr",
          "text": [
            "/usr/local/lib/python3.10/dist-packages/PIL/TiffImagePlugin.py:819: UserWarning: Truncated File Read\n",
            "  warnings.warn(str(msg))\n"
          ]
        },
        {
          "output_type": "stream",
          "name": "stdout",
          "text": [
            "782/782 [==============================] - 424s 541ms/step - loss: 0.6145 - accuracy: 0.6559\n",
            "Epoch 2/5\n",
            "782/782 [==============================] - 425s 544ms/step - loss: 0.5223 - accuracy: 0.7422\n",
            "Epoch 3/5\n",
            "782/782 [==============================] - 425s 543ms/step - loss: 0.4745 - accuracy: 0.7711\n",
            "Epoch 4/5\n",
            "782/782 [==============================] - 421s 538ms/step - loss: 0.4395 - accuracy: 0.7949\n",
            "Epoch 5/5\n",
            "782/782 [==============================] - 425s 543ms/step - loss: 0.4126 - accuracy: 0.8107\n"
          ]
        },
        {
          "output_type": "execute_result",
          "data": {
            "text/plain": [
              "<keras.callbacks.History at 0x7fe6484bdbd0>"
            ]
          },
          "metadata": {},
          "execution_count": 36
        }
      ]
    },
    {
      "cell_type": "code",
      "source": [
        "def predict(path):\n",
        "  image = cv2.imread(path)\n",
        "  image = cv2.resize(image, (100, 100))\n",
        "  image = image / 255.0\n",
        "  image = np.expand_dims(image, axis=0)  # Добавить размерность пакета данных\n",
        "\n",
        "  prediction = model.predict(image)\n",
        "  predicted_label = \"Cat\" if prediction[0][0] > 0.5 else \"Dog\"\n",
        "\n",
        "  return predicted_label, prediction[0][0]\n",
        "\n",
        "\n",
        "predict(\"/content/msg5762130910-96968.jpg\")"
      ],
      "metadata": {
        "colab": {
          "base_uri": "https://localhost:8080/"
        },
        "id": "JPmBcwASAGbG",
        "outputId": "9d487181-7782-4223-9349-e7e26f720c80"
      },
      "execution_count": null,
      "outputs": [
        {
          "output_type": "stream",
          "name": "stdout",
          "text": [
            "1/1 [==============================] - 0s 34ms/step\n"
          ]
        },
        {
          "output_type": "execute_result",
          "data": {
            "text/plain": [
              "('Dog', 0.29184324)"
            ]
          },
          "metadata": {},
          "execution_count": 47
        }
      ]
    },
    {
      "cell_type": "code",
      "source": [
        "\n",
        "model.save('model.h5')\n"
      ],
      "metadata": {
        "id": "cuPuKAIdCWiU"
      },
      "execution_count": null,
      "outputs": []
    },
    {
      "cell_type": "code",
      "source": [
        "import tensorflow as tf\n",
        "\n",
        "print(tf.__version__)\n",
        "\n"
      ],
      "metadata": {
        "id": "KK3OHEaBNCxP",
        "outputId": "c133cf62-e2fe-4fb0-ed41-87f0bf5dfa38",
        "colab": {
          "base_uri": "https://localhost:8080/"
        }
      },
      "execution_count": null,
      "outputs": [
        {
          "output_type": "stream",
          "name": "stdout",
          "text": [
            "2.12.0\n"
          ]
        }
      ]
    }
  ]
}